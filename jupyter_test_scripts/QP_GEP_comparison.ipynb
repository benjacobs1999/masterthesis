{
 "cells": [
  {
   "cell_type": "code",
   "execution_count": 1,
   "metadata": {},
   "outputs": [
    {
     "name": "stdout",
     "output_type": "stream",
     "text": [
      "running osqp\n",
      "10000\n"
     ]
    }
   ],
   "source": [
    "import numpy as np\n",
    "import pickle\n",
    "import torch\n",
    "\n",
    "import sys\n",
    "import os\n",
    "sys.path.insert(1, os.path.join(sys.path[0], os.pardir, os.pardir))\n",
    "from utils import SimpleProblem\n",
    "\n",
    "import os\n",
    "os.environ['KMP_DUPLICATE_LIB_OK']='True'\n",
    "\n",
    "torch.set_default_dtype(torch.float64)\n",
    "\n",
    "num_var = 10\n",
    "num_ineq = 10\n",
    "num_eq = 10\n",
    "num_examples = 10000\n",
    "\n",
    "np.random.seed(17)\n",
    "Q = np.diag(np.random.random(num_var))\n",
    "p = np.random.random(num_var)\n",
    "A = np.random.normal(loc=0, scale=1., size=(num_eq, num_var))\n",
    "X = np.random.uniform(-1, 1, size=(num_examples, num_eq))\n",
    "G = np.random.normal(loc=0, scale=1., size=(num_ineq, num_var))\n",
    "h = np.sum(np.abs(G@np.linalg.pinv(A)), axis=1)\n",
    "\n",
    "QP_problem = SimpleProblem(Q, p, A, G, h, X)\n",
    "QP_problem.calc_Y()\n",
    "print(len(QP_problem.Y))"
   ]
  },
  {
   "cell_type": "code",
   "execution_count": 2,
   "metadata": {},
   "outputs": [
    {
     "name": "stdout",
     "output_type": "stream",
     "text": [
      "Running on cpu\n",
      "Parsing the config file\n",
      "Initializing the solver\n",
      "Using Gurobi\n",
      "Parsing the config file\n",
      "Parsing the config file\n",
      "Wrangling the input data\n",
      "Creating problem instance\n",
      "Populating ineq constraints\n",
      "Populating eq constraints\n",
      "Creating objective coefficients\n",
      "Creating input for NN: X\n",
      "Size of train set: 584\n",
      "Size of val set: 73\n",
      "Size of test set: 73\n"
     ]
    }
   ],
   "source": [
    "import numpy as np\n",
    "from gep_config_parser import *\n",
    "from data_wrangling import dataframe_to_dict\n",
    "\n",
    "from primal_dual_refactored import PrimalDualTrainer\n",
    "from gep_primal_dual_main_refactored import prep_data\n",
    "from gep_problem_refactored import GEPProblemSet\n",
    "from gep_main import run_model as run_Gurobi\n",
    "from gep_main import run_model_no_bounds as run_Gurobi_no_bounds\n",
    "from get_gurobi_vars import OptValueExtractor\n",
    "\n",
    "import pyomo as pyo\n",
    "\n",
    "CONFIG_FILE_NAME        = \"config.toml\"\n",
    "VISUALIZATION_FILE_NAME = \"visualization.toml\"\n",
    "\n",
    "\n",
    "SCALE_FACTORS = {\n",
    "    \"pDemand\": 1/1000,  # MW -> GW\n",
    "    \"pGenAva\": 1,       # Don't scale\n",
    "    \"pVOLL\": 1,         # kEUR/MWh -> mEUR/GWh\n",
    "    \"pWeight\": 1,       # Don't scale\n",
    "    \"pRamping\": 1,      # Don't scale\n",
    "    \"pInvCost\": 1,      # kEUR/MW -> mEUR/GW\n",
    "    \"pVarCost\": 1,      # kEUR/MWh -> mEUR/GWh\n",
    "    \"pUnitCap\": 1/1000, # MW -> GW\n",
    "    \"pExpCap\": 1/1000,  # MW -> GW\n",
    "    \"pImpCap\": 1/1000,  # MW -> GW\n",
    "}\n",
    "\n",
    "\n",
    "## Step 1: parse the input data\n",
    "print(\"Parsing the config file\")\n",
    "\n",
    "data = parse_config(CONFIG_FILE_NAME)\n",
    "experiment = data[\"experiment\"]\n",
    "outputs_config = data[\"outputs_config\"]\n",
    "\n",
    "for i, experiment_instance in enumerate(experiment[\"experiments\"]):\n",
    "    # Prep proble data:\n",
    "    gep_data = prep_data(experiment_instance, sample_duration=12)\n"
   ]
  },
  {
   "cell_type": "code",
   "execution_count": 24,
   "metadata": {},
   "outputs": [
    {
     "name": "stdout",
     "output_type": "stream",
     "text": [
      "111\n",
      "tensor([    0.0000,     0.0000,     0.0000,     0.0000,     0.0000,     0.0000,\n",
      "            0.0000,     0.0000,  3986.2258,     0.0000,     0.0000,     0.0000,\n",
      "            0.0000,     0.0000,     0.0000,     0.0000,     0.0000,     0.0000,\n",
      "            0.0000,     0.0000, 33287.9487, 24001.4938, 27050.9301, 31825.7683,\n",
      "            0.0000,     0.0000,     0.0000,     0.0000,     0.0000,     0.0000,\n",
      "            0.0000,     0.0000,  5067.1065, 21213.1374, 21749.9797, 20969.2613])\n",
      "tensor([-2000.0000, -2000.0000, -2000.0000, -2000.0000, -2000.0000, -2000.0000,\n",
      "        -2000.0000, -2000.0000, -2000.0000,  -275.3995,  -502.7433, -2000.0000,\n",
      "         2000.0000,  2000.0000,  2000.0000,  2000.0000,  2000.0000,  2000.0000,\n",
      "         2000.0000,  2000.0000,  2400.0000, -3400.0000, -3400.0000, -2151.6456,\n",
      "        -2000.0000, -2000.0000, -2000.0000, -2000.0000, -2000.0000, -2000.0000,\n",
      "        -2000.0000, -2000.0000,  5000.0000, -5000.0000, -5000.0000, -5000.0000])\n",
      "tensor([ 5336.3813,  4884.6334,  4489.7215,  4159.4850,  3890.9841,  3778.2921,\n",
      "         3817.4894,  3566.6272,     0.0000,     0.0000,     0.0000,     0.0000,\n",
      "        33061.6701, 31449.1851, 29727.8246, 28264.6022, 27576.0331, 26813.5104,\n",
      "        25294.1990, 25573.2655,     0.0000,     0.0000,     0.0000,     0.0000,\n",
      "        13170.0436, 12924.8560, 12508.6302, 12069.6652, 11799.7611, 11781.9652,\n",
      "        11915.4343, 12211.0436,     0.0000,     0.0000,     0.0000,     0.0000])\n",
      "tensor([ 3188.9807, 15130.8858,  6756.1420])\n"
     ]
    }
   ],
   "source": [
    "gep_X = gep_data.X[gep_data.train_indices]\n",
    "gep_eq_cm = gep_data.eq_cm\n",
    "gep_ineq_cm = gep_data.ineq_cm\n",
    "gep_eq_rhs = gep_data.eq_rhs\n",
    "gep_ineq_rhs = gep_data.ineq_rhs\n",
    "\n",
    "opt_targets = gep_data.opt_targets\n",
    "opt_decision_variables = opt_targets[0][\"y\"]\n",
    "print(len(opt_decision_variables))\n",
    "\n",
    "p_gt_idx = len(gep_data.G)*gep_data.sample_duration\n",
    "f_lt_idx = p_gt_idx + len(gep_data.L)*gep_data.sample_duration\n",
    "md_nt_idx = f_lt_idx + len(gep_data.N)*gep_data.sample_duration\n",
    "ui_g_idx = md_nt_idx + len(gep_data.G)\n",
    "p_gt = opt_decision_variables[:p_gt_idx]\n",
    "f_lt = opt_decision_variables[p_gt_idx:f_lt_idx]\n",
    "md_nt = opt_decision_variables[f_lt_idx:md_nt_idx]\n",
    "ui_g = opt_decision_variables[md_nt_idx:]\n",
    "print(p_gt)\n",
    "print(f_lt)\n",
    "print(md_nt)\n",
    "print(ui_g)"
   ]
  },
  {
   "cell_type": "code",
   "execution_count": null,
   "metadata": {},
   "outputs": [],
   "source": []
  }
 ],
 "metadata": {
  "kernelspec": {
   "display_name": "thesis",
   "language": "python",
   "name": "python3"
  },
  "language_info": {
   "codemirror_mode": {
    "name": "ipython",
    "version": 3
   },
   "file_extension": ".py",
   "mimetype": "text/x-python",
   "name": "python",
   "nbconvert_exporter": "python",
   "pygments_lexer": "ipython3",
   "version": "3.9.20"
  }
 },
 "nbformat": 4,
 "nbformat_minor": 2
}

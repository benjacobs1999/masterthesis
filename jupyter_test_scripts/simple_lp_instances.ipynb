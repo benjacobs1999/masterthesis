{
 "cells": [
  {
   "cell_type": "code",
   "execution_count": null,
   "metadata": {},
   "outputs": [],
   "source": [
    "import numpy as np\n",
    "\n",
    "def generate_lp_instance(num_samples, num_constraints, num_variables, scale='normal'):\n",
    "    \"\"\"\n",
    "    Generate a linear programming instance with given scale.\n",
    "    \n",
    "    Parameters:\n",
    "    num_constraints (int): Number of constraints.\n",
    "    num_variables (int): Number of variables.\n",
    "    scale (str): 'normal' for values near 1, 'large' for larger-scale problems.\n",
    "\n",
    "    Returns:\n",
    "    dict: Contains constraint matrices, right-hand side vectors, and the objective function.\n",
    "    \"\"\"\n",
    "    if scale == 'normal':\n",
    "        obj_scale = 1\n",
    "        var_scale = 1\n",
    "        rhs_scale = 1\n",
    "    elif scale == 'large':\n",
    "        obj_scale = 1e9\n",
    "        var_scale = 1e3\n",
    "        rhs_scale = 1e6\n",
    "    else:\n",
    "        raise ValueError(\"Scale must be 'normal' or 'large'.\")\n",
    "\n",
    "    # Generate objective function coefficients\n",
    "    c = np.random.uniform(-obj_scale, obj_scale, size=num_variables)\n",
    "\n",
    "    # Generate inequality constraint matrix and RHS\n",
    "    cm_ineq = np.random.uniform(-var_scale, var_scale, size=(num_constraints, num_variables))\n",
    "    rhs_ineq = np.random.uniform(0, rhs_scale, size=num_constraints)\n",
    "\n",
    "    # Generate equality constraint matrix and RHS\n",
    "    cm_eq = np.random.uniform(-var_scale, var_scale, size=(num_constraints, num_variables))\n",
    "    rhs_eq = np.random.uniform(0, rhs_scale, size=num_constraints)\n",
    "\n",
    "    \n",
    "\n",
    "# Example Usage\n",
    "normal_lp = generate_lp_instance(num_constraints=10, num_variables=5, scale='normal')\n",
    "large_lp = generate_lp_instance(num_constraints=10, num_variables=5, scale='large')\n",
    "\n",
    "# Display results\n",
    "print(\"Normal Scale LP Instance:\")\n",
    "print(normal_lp)\n",
    "print(\"\\nLarge Scale LP Instance:\")\n",
    "print(large_lp)\n"
   ]
  },
  {
   "cell_type": "code",
   "execution_count": null,
   "metadata": {},
   "outputs": [],
   "source": [
    "class SimpleLPProblemSet():\n",
    "    def __init__(self, obj_coeff, eq_cm, ineq_cm, eq_rhs, ineq_rhs):\n",
    "        self.obj_coeff = obj_coeff\n",
    "        self.eq_cm = eq_cm\n",
    "        self.ineq_cm = ineq_cm\n",
    "        self.eq_rhs = eq_rhs\n",
    "        self.ineq_rhs = ineq_rhs\n",
    "\n",
    "        self.X = "
   ]
  }
 ],
 "metadata": {
  "kernelspec": {
   "display_name": "thesis",
   "language": "python",
   "name": "python3"
  },
  "language_info": {
   "name": "python",
   "version": "3.9.20"
  }
 },
 "nbformat": 4,
 "nbformat_minor": 2
}

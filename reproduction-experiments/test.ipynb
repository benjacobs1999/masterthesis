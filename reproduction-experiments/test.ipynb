{
 "cells": [
  {
   "cell_type": "code",
   "execution_count": 29,
   "metadata": {},
   "outputs": [],
   "source": [
    "import pickle"
   ]
  },
  {
   "cell_type": "code",
   "execution_count": 34,
   "metadata": {},
   "outputs": [
    {
     "name": "stdout",
     "output_type": "stream",
     "text": [
      "valid_eval: -11.547783464658446\n",
      "valid_eq_max: 0.004560660950432555\n",
      "valid_ineq_max: 0.0013746339447644291\n",
      "valid_eq_mean: 0.0014053628882243529\n",
      "valid_ineq_mean: 8.080300285166945e-05\n",
      "valid_time: 0.00020313262939453125\n"
     ]
    }
   ],
   "source": [
    "with open(\"results/NonconvexProblem-100-50-50-10000/PDL/e296656af8b05dde0b0a835e5b0e520001c8a3be/1732118636-5006669/stats.dict\", 'rb') as f:\n",
    "    stats = pickle.load(f)\n",
    "print(f\"valid_eval: {sum(stats['valid_eval'])/len(stats['valid_eval'])}\")\n",
    "print(f\"valid_eq_max: {sum(stats['valid_eq_max'])/len(stats['valid_eq_max'])}\")\n",
    "print(f\"valid_ineq_max: {sum(stats['valid_ineq_max'])/len(stats['valid_ineq_max'])}\")\n",
    "print(f\"valid_eq_mean: {sum(stats['valid_eq_mean'])/len(stats['valid_eq_mean'])}\")\n",
    "print(f\"valid_ineq_mean: {sum(stats['valid_ineq_mean'])/len(stats['valid_ineq_mean'])}\")\n",
    "print(f\"valid_time: {stats['valid_time']}\")\n"
   ]
  },
  {
   "cell_type": "code",
   "execution_count": null,
   "metadata": {},
   "outputs": [],
   "source": []
  }
 ],
 "metadata": {
  "kernelspec": {
   "display_name": "thesis",
   "language": "python",
   "name": "python3"
  },
  "language_info": {
   "codemirror_mode": {
    "name": "ipython",
    "version": 3
   },
   "file_extension": ".py",
   "mimetype": "text/x-python",
   "name": "python",
   "nbconvert_exporter": "python",
   "pygments_lexer": "ipython3",
   "version": "3.9.20"
  }
 },
 "nbformat": 4,
 "nbformat_minor": 2
}

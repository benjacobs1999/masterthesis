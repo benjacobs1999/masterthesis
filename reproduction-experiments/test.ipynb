{
 "cells": [
  {
   "cell_type": "code",
   "execution_count": 29,
   "metadata": {},
   "outputs": [],
   "source": [
    "import pickle"
   ]
  },
  {
   "cell_type": "code",
   "execution_count": null,
   "metadata": {},
   "outputs": [
    {
     "ename": "KeyError",
     "evalue": "'test_eval'",
     "output_type": "error",
     "traceback": [
      "\u001b[0;31m---------------------------------------------------------------------------\u001b[0m",
      "\u001b[0;31mKeyError\u001b[0m                                  Traceback (most recent call last)",
      "Cell \u001b[0;32mIn[33], line 3\u001b[0m\n\u001b[1;32m      1\u001b[0m \u001b[38;5;28;01mwith\u001b[39;00m \u001b[38;5;28mopen\u001b[39m(\u001b[38;5;124m\"\u001b[39m\u001b[38;5;124mresults/NonconvexProblem-100-50-50-10000/PDL/e296656af8b05dde0b0a835e5b0e520001c8a3be/1732118636-5006669/stats.dict\u001b[39m\u001b[38;5;124m\"\u001b[39m, \u001b[38;5;124m'\u001b[39m\u001b[38;5;124mrb\u001b[39m\u001b[38;5;124m'\u001b[39m) \u001b[38;5;28;01mas\u001b[39;00m f:\n\u001b[1;32m      2\u001b[0m     stats \u001b[38;5;241m=\u001b[39m pickle\u001b[38;5;241m.\u001b[39mload(f)\n\u001b[0;32m----> 3\u001b[0m \u001b[38;5;28mprint\u001b[39m(\u001b[38;5;124mf\u001b[39m\u001b[38;5;124m\"\u001b[39m\u001b[38;5;124mtest_eval: \u001b[39m\u001b[38;5;132;01m{\u001b[39;00m\u001b[38;5;28msum\u001b[39m(stats[\u001b[38;5;124m'\u001b[39m\u001b[38;5;124mtest_eval\u001b[39m\u001b[38;5;124m'\u001b[39m])\u001b[38;5;241m/\u001b[39m\u001b[38;5;28mlen\u001b[39m(stats[\u001b[38;5;124m'\u001b[39m\u001b[38;5;124mtest_eval\u001b[39m\u001b[38;5;124m'\u001b[39m])\u001b[38;5;132;01m}\u001b[39;00m\u001b[38;5;124m\"\u001b[39m)\n\u001b[1;32m      4\u001b[0m \u001b[38;5;28mprint\u001b[39m(\u001b[38;5;124mf\u001b[39m\u001b[38;5;124m\"\u001b[39m\u001b[38;5;124mtest_eq_max: \u001b[39m\u001b[38;5;132;01m{\u001b[39;00m\u001b[38;5;28msum\u001b[39m(stats[\u001b[38;5;124m'\u001b[39m\u001b[38;5;124mtest_eq_max\u001b[39m\u001b[38;5;124m'\u001b[39m])\u001b[38;5;241m/\u001b[39m\u001b[38;5;28mlen\u001b[39m(stats[\u001b[38;5;124m'\u001b[39m\u001b[38;5;124mtest_eq_max\u001b[39m\u001b[38;5;124m'\u001b[39m])\u001b[38;5;132;01m}\u001b[39;00m\u001b[38;5;124m\"\u001b[39m)\n\u001b[1;32m      5\u001b[0m \u001b[38;5;28mprint\u001b[39m(\u001b[38;5;124mf\u001b[39m\u001b[38;5;124m\"\u001b[39m\u001b[38;5;124mtest_ineq_max: \u001b[39m\u001b[38;5;132;01m{\u001b[39;00m\u001b[38;5;28msum\u001b[39m(stats[\u001b[38;5;124m'\u001b[39m\u001b[38;5;124mtest_ineq_max\u001b[39m\u001b[38;5;124m'\u001b[39m])\u001b[38;5;241m/\u001b[39m\u001b[38;5;28mlen\u001b[39m(stats[\u001b[38;5;124m'\u001b[39m\u001b[38;5;124mtest_ineq_max\u001b[39m\u001b[38;5;124m'\u001b[39m])\u001b[38;5;132;01m}\u001b[39;00m\u001b[38;5;124m\"\u001b[39m)\n",
      "\u001b[0;31mKeyError\u001b[0m: 'test_eval'"
     ]
    }
   ],
   "source": [
    "with open(\"results/NonconvexProblem-100-50-50-10000/PDL/e296656af8b05dde0b0a835e5b0e520001c8a3be/1732118636-5006669/stats.dict\", 'rb') as f:\n",
    "    stats = pickle.load(f)\n",
    "print(f\"valid_eval: {sum(stats['valid_eval'])/len(stats['valid_eval'])}\")\n",
    "print(f\"valid_eq_max: {sum(stats['valid_eq_max'])/len(stats['valid_eq_max'])}\")\n",
    "print(f\"valid_ineq_max: {sum(stats['valid_ineq_max'])/len(stats['valid_ineq_max'])}\")\n",
    "print(f\"valid_eq_mean: {sum(stats['valid_eq_mean'])/len(stats['valid_eq_mean'])}\")\n",
    "print(f\"valid_ineq_mean: {sum(stats['valid_ineq_mean'])/len(stats['valid_ineq_mean'])}\")\n",
    "print(f\"valid_time: {stats['valid_time']}\")\n"
   ]
  },
  {
   "cell_type": "code",
   "execution_count": null,
   "metadata": {},
   "outputs": [],
   "source": []
  }
 ],
 "metadata": {
  "kernelspec": {
   "display_name": "thesis",
   "language": "python",
   "name": "python3"
  },
  "language_info": {
   "codemirror_mode": {
    "name": "ipython",
    "version": 3
   },
   "file_extension": ".py",
   "mimetype": "text/x-python",
   "name": "python",
   "nbconvert_exporter": "python",
   "pygments_lexer": "ipython3",
   "version": "3.9.20"
  }
 },
 "nbformat": 4,
 "nbformat_minor": 2
}

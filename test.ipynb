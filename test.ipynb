{
 "cells": [
  {
   "cell_type": "code",
   "execution_count": 11,
   "metadata": {},
   "outputs": [],
   "source": [
    "import pickle"
   ]
  },
  {
   "cell_type": "code",
   "execution_count": 27,
   "metadata": {},
   "outputs": [
    {
     "name": "stdout",
     "output_type": "stream",
     "text": [
      "test_eval: -11.079199146394398\n",
      "test_eq_max: 0.009979193022816765\n",
      "test_ineq_max: 0.0028659229805203332\n",
      "test_eq_mean: 0.003136428323278644\n",
      "test_ineq_mean: 5.7318458451865455e-05\n",
      "test_time: 0.000225067138671875\n"
     ]
    }
   ],
   "source": [
    "with open(\"results/SimpleProblem-100-50-50-10000/PDL/ee83ab696457da1cb8ec3bfccfd931b9659d6fef/results-single-output-14-11/stats.dict\", 'rb') as f:\n",
    "    stats = pickle.load(f)\n",
    "print(f\"test_eval: {sum(stats['test_eval'])/len(stats['test_eval'])}\")\n",
    "print(f\"test_eq_max: {sum(stats['test_eq_max'])/len(stats['test_eq_max'])}\")\n",
    "print(f\"test_ineq_max: {sum(stats['test_ineq_max'])/len(stats['test_ineq_max'])}\")\n",
    "print(f\"test_eq_mean: {sum(stats['test_eq_mean'])/len(stats['test_eq_mean'])}\")\n",
    "print(f\"test_ineq_mean: {sum(stats['test_ineq_mean'])/len(stats['test_ineq_mean'])}\")\n",
    "print(f\"test_time: {stats['test_time']}\")\n"
   ]
  },
  {
   "cell_type": "code",
   "execution_count": null,
   "metadata": {},
   "outputs": [],
   "source": []
  }
 ],
 "metadata": {
  "kernelspec": {
   "display_name": "thesis",
   "language": "python",
   "name": "python3"
  },
  "language_info": {
   "codemirror_mode": {
    "name": "ipython",
    "version": 3
   },
   "file_extension": ".py",
   "mimetype": "text/x-python",
   "name": "python",
   "nbconvert_exporter": "python",
   "pygments_lexer": "ipython3",
   "version": "3.9.20"
  }
 },
 "nbformat": 4,
 "nbformat_minor": 2
}
